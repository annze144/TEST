{
  "cells": [
    {
      "metadata": {
        "_uuid": "8f2839f25d086af736a60e9eeb907d3b93b6e0e5",
        "_cell_guid": "b1076dfc-b9ad-4769-8c92-a6c4dae69d19",
        "trusted": true
      },
      "cell_type": "code",
      "source": "# This Python 3 environment comes with many helpful analytics libraries installed\n# It is defined by the kaggle/python docker image: https://github.com/kaggle/docker-python\n# For example, here's several helpful packages to load in \n\nimport numpy as np # linear algebra\nimport pandas as pd # data processing, CSV file I/O (e.g. pd.read_csv)\nimport seaborn as sns\nimport matplotlib.pyplot as plt\n%matplotlib inline\n\n# Input data files are available in the \"../input/\" directory.\n# For example, running this (by clicking run or pressing Shift+Enter) will list the files in the input directory\n\nimport os\nprint(os.listdir(\"../input\"))\n\n# Any results you write to the current directory are saved as output.",
      "execution_count": null,
      "outputs": []
    },
    {
      "metadata": {
        "_cell_guid": "79c7e3d0-c299-4dcb-8224-4455121ee9b0",
        "_uuid": "d629ff2d2480ee46fbb7e2d37f6b5fab8052498a",
        "trusted": true
      },
      "cell_type": "code",
      "source": "# get files into dataframes that would be used in the process\nplayer_info = pd.read_csv('../input/player_info.csv')\ngame_shifts = pd.read_csv('../input/game_shifts.csv')\ngame = pd.read_csv('../input/game.csv')\ngame_skater_stats=pd.read_csv(\"../input/game_skater_stats.csv\")\nteam_info=pd.read_csv(\"../input/team_info.csv\")\ngame_teams_stats=pd.read_csv(\"../input/game_teams_stats.csv\")",
      "execution_count": null,
      "outputs": []
    },
    {
      "metadata": {
        "trusted": true,
        "_uuid": "d7a1df538fc01de971f4a1f14883e55dbeda19a5"
      },
      "cell_type": "code",
      "source": "# filter only needed players\nplayer_info=player_info[(player_info['lastName']==\"Kane\") & (player_info['firstName']==\"Patrick\")| \n           (player_info['lastName']==\"Ovechkin\") & (player_info['firstName']==\"Alex\")]\nplayer_info=player_info[['player_id', 'firstName', 'lastName']] \nplayer_info.head(10)",
      "execution_count": null,
      "outputs": []
    },
    {
      "metadata": {
        "trusted": true,
        "_uuid": "03d1a998132faf72ce9cf7a67fa8674c05748b53"
      },
      "cell_type": "code",
      "source": "# filter only needed season for players stats\ngame_player=game[['game_id','season']] \ngame_player=game_player[(game_player['season']==20162017)] \ngame_player.head(3)",
      "execution_count": null,
      "outputs": []
    },
    {
      "metadata": {
        "trusted": true,
        "_uuid": "f622b6de837d9d3872c4057611d94ba32d98d8f9"
      },
      "cell_type": "code",
      "source": "# filter only needed season for team stats\ngame_team=game[(game['season']==20172018)] \ngame_team=game_team[['game_id','season']] \ngame_team.head(3)",
      "execution_count": null,
      "outputs": []
    },
    {
      "metadata": {
        "trusted": true,
        "_uuid": "3f91509b5faf1a96e509eefd16d64a1568bd876e"
      },
      "cell_type": "code",
      "source": "#eliminate columns \ngame_shifts=game_shifts[['game_id','player_id', 'shift_start', 'shift_end']] \ngame_shifts.head(3)",
      "execution_count": null,
      "outputs": []
    },
    {
      "metadata": {
        "trusted": true,
        "_uuid": "b4f263bab65ca021426ef644557bec1279be5c1b"
      },
      "cell_type": "code",
      "source": "#merge for the shifts per game cnt (1a)\ndfmrg = pd.merge(pd.merge(player_info,game_shifts ,on='player_id'),game_player, on = 'game_id') \ndfmrg=dfmrg[['player_id', 'firstName','lastName','game_id','shift_start','shift_end','season']]\ndfmrg.head(3)",
      "execution_count": null,
      "outputs": []
    },
    {
      "metadata": {
        "trusted": true,
        "_uuid": "3328fa8113dfea9b57edc53e26ae5b6968dbecae"
      },
      "cell_type": "code",
      "source": "# Shift cnt per game (1a)\ndf_shifts_per_game = dfmrg.groupby(['player_id','game_id'])['shift_start'].count().reset_index()\ndf_shifts_per_game1=df_shifts_per_game.rename(columns={'player_id':'player_id','game_id':'game_id', 'shift_start':'Shift Cnt'})\ndf_shifts_per_game1.head(10)\n#df_shifts_per_game.shape",
      "execution_count": null,
      "outputs": []
    },
    {
      "metadata": {
        "trusted": true,
        "_uuid": "9fa474854fbe20f4bfdf20d16d97fb4334dfb71e"
      },
      "cell_type": "code",
      "source": "#avg time per shift (1b)\ngame_shifts['avg_played'] = game_shifts['shift_end'] - game_shifts['shift_start']\ndf_time_per_shift = game_shifts.groupby(['game_id','player_id'])['avg_played'].mean().reset_index()/360\n#df_time_per_shift['minutes_played'] = df_time_per_shift['seconds_played'] / 60\n#df_time_per_shift['hours_played'] = df_time_per_shift['minutes_played'] / 60 \ndf_time_per_shift.head()",
      "execution_count": null,
      "outputs": []
    },
    {
      "metadata": {
        "trusted": true,
        "_uuid": "402ce162e0ef4c54471eea1d4bdb6c1dc76d7dac"
      },
      "cell_type": "code",
      "source": "#merge for the shifts per game cnt ???????????\ndfmrg = pd.merge(pd.merge(player_info,game_shifts ,on='player_id'),game_player, on = 'game_id') \ndfmrg=dfmrg[['player_id', 'avg_played']]\ndfmrg.head(3)",
      "execution_count": null,
      "outputs": []
    },
    {
      "metadata": {
        "trusted": true,
        "_uuid": "9d116ab6dcf20c883f83eecb1efba626b9dd2001"
      },
      "cell_type": "code",
      "source": "#merge for shots attemps ( 1c)\ndfmrg = pd.merge(pd.merge(player_info,game_skater_stats ,on='player_id'),game_player, on = 'game_id') \ndfmrg=dfmrg[['player_id', 'game_id','shots','season']]\ndfmrg.head(3)",
      "execution_count": null,
      "outputs": []
    },
    {
      "metadata": {
        "trusted": true,
        "_uuid": "237cb78ebfa7270dda16e93dd41bed6d96d3833d"
      },
      "cell_type": "code",
      "source": "#shots attemps cnt per game (1c)\ndf_shot_attempts = dfmrg.groupby(['player_id','game_id'])['shots'].sum().reset_index()\ndf_shot_attempts.head(5)",
      "execution_count": null,
      "outputs": []
    },
    {
      "metadata": {
        "trusted": true,
        "_uuid": "e6992655045f13055f8aea294708e9e930d773fd"
      },
      "cell_type": "code",
      "source": "#merge for goals per game (1d)\ndfmrg = pd.merge(pd.merge(player_info,game_skater_stats ,on='player_id'),game_player, on = 'game_id') \ndfmrg=dfmrg[['player_id', 'game_id','goals','season']]\ndfmrg.head(3)",
      "execution_count": null,
      "outputs": []
    },
    {
      "metadata": {
        "trusted": true,
        "_uuid": "b6d5f2b9051aa7c02287d2b0a267d57b24c748db"
      },
      "cell_type": "code",
      "source": "#goals cnt per game (1d)\ndf_goals_scored = dfmrg.groupby(['player_id','game_id'])['goals'].sum().reset_index()\ndf_goals_scored.head(5)",
      "execution_count": null,
      "outputs": []
    },
    {
      "metadata": {
        "trusted": true,
        "_uuid": "9a3ff884004f18449302d7607cde8cacb862d5cd"
      },
      "cell_type": "code",
      "source": "#2A shots attemps per season plot\ndfmrg = pd.merge(pd.merge(player_info,game_skater_stats ,on='player_id'),game_player, on = 'game_id') \ndfmrg=dfmrg[['player_id', 'season','shots',]]\ndfmrg.head(3)",
      "execution_count": null,
      "outputs": []
    },
    {
      "metadata": {
        "trusted": true,
        "_uuid": "d13530b193434010fb5fbe03c0420750333f8df7"
      },
      "cell_type": "code",
      "source": "#2A shots attemps per seazon plot\ndf_shot_attempts = dfmrg.groupby(['player_id'])['shots'].sum().reset_index()\ndf_shot_attempts.head(5)",
      "execution_count": null,
      "outputs": []
    },
    {
      "metadata": {
        "trusted": true,
        "_uuid": "c113149eb9ed9d3d2c7800e8b138f43a1594b1e2"
      },
      "cell_type": "code",
      "source": "#2A shots attemps per seazon plot\ndf_shot_attempts = dfmrg.groupby(['player_id'])['shots'].sum().plot(kind='bar',legend=True, title='Shots attemps for season')\n#df_shot_attempts.head(5)",
      "execution_count": null,
      "outputs": []
    },
    {
      "metadata": {
        "trusted": true,
        "_uuid": "f3dd1b14b5f90f51ce50f90e9515c49855c90dff"
      },
      "cell_type": "code",
      "source": "#2B hits per seazon plot\ndfmrg = pd.merge(pd.merge(player_info,game_skater_stats ,on='player_id'),game_player, on = 'game_id') \ndfmrg=dfmrg[['player_id', 'game_id','goals','season']]\n#dfmrg.head(3)\ndf_goals_scored = dfmrg.groupby(['player_id' ])['goals'].sum().plot(kind='bar',legend=True,title='Hits for season')\n#df_goals_scored.head(5)",
      "execution_count": null,
      "outputs": []
    },
    {
      "metadata": {
        "trusted": true,
        "_uuid": "e5dfa2c685cb9e0c2ee9e3066090dc2f7f5e3442"
      },
      "cell_type": "code",
      "source": "#filtering firm info\nteam_info=team_info[(team_info['shortName']=='Washington') & (team_info['teamName']=='Capitals')]\nteam_info.head(3)",
      "execution_count": null,
      "outputs": []
    },
    {
      "metadata": {
        "trusted": true,
        "_uuid": "a0c70fb4a88a9dcde116f110ccb0dd95ffd5868d"
      },
      "cell_type": "code",
      "source": "#joining for Power Play Percentage(3a)\ndfmrg = pd.merge(pd.merge(team_info,game_teams_stats ,on = 'team_id'),game_team, on = 'game_id') \ndfmrg=dfmrg[['team_id','powerPlayGoals','powerPlayOpportunities','season']]\ndfmrg.head(3)",
      "execution_count": null,
      "outputs": []
    },
    {
      "metadata": {
        "trusted": true,
        "_uuid": "763900239212b977d609ee7763564a3d2585eafb"
      },
      "cell_type": "code",
      "source": "#merge for takeways (3b)\ndfmrg = pd.merge(pd.merge(team_info,game_teams_stats ,on = 'team_id'),game_team, on = 'game_id') \ndfmrg=dfmrg[['team_id','game_id','giveaways','takeaways','season']]\ndfmrg.head(3)",
      "execution_count": null,
      "outputs": []
    },
    {
      "metadata": {
        "trusted": true,
        "_uuid": "e11f8644bd9ac28ed9bac0f8d5c2ef0ac0af7799"
      },
      "cell_type": "code",
      "source": "# Average per game (3b)\ndfmrg['AveragePerGame'] = (dfmrg['takeaways'] -dfmrg['giveaways']) \ndfmrg.groupby(['team_id', 'game_id'])['AveragePerGame'].mean()\ndfmrg.head(3)",
      "execution_count": null,
      "outputs": []
    },
    {
      "metadata": {
        "trusted": true,
        "_uuid": "7d0a7835652b034db0ece898db7736a16cd6b1e9"
      },
      "cell_type": "code",
      "source": "#joining for plot team shot atempts for season(4a)\ndfmrg = pd.merge(pd.merge(team_info,game_teams_stats ,on = 'team_id'),game_team, on = 'game_id') \ndfmrg=dfmrg[['team_id','game_id','shots','season']]\ndfmrg.head(3)",
      "execution_count": null,
      "outputs": []
    },
    {
      "metadata": {
        "trusted": true,
        "_uuid": "654b90f6258e7e033d4336f3c92273b1fed1efa6"
      },
      "cell_type": "code",
      "source": "#plot shot attempts(4a)\ndf_team_shots = dfmrg.groupby(['team_id' ])['shots'].sum().plot(kind='bar',legend=True,title='Shots attempts for season')",
      "execution_count": null,
      "outputs": []
    },
    {
      "metadata": {
        "trusted": true,
        "_uuid": "85e8c0269dc508b2dfdb50bf3bf6a6759788a6b7"
      },
      "cell_type": "code",
      "source": "#joining for plot team hits atempts for season(4b)\ndfmrg = pd.merge(pd.merge(team_info,game_teams_stats ,on = 'team_id'),game_team, on = 'game_id') \ndfmrg=dfmrg[['team_id','game_id','hits','season']]\ndfmrg.head(3)",
      "execution_count": null,
      "outputs": []
    },
    {
      "metadata": {
        "trusted": true,
        "_uuid": "72e6f5bfe46841e3233e6526a7dc47b1879e411e"
      },
      "cell_type": "code",
      "source": "#plot hits(4b)\ndf_team_hits = dfmrg.groupby(['team_id' ])['hits'].sum().plot(kind='bar',legend=True,title='Total Hits for season')",
      "execution_count": null,
      "outputs": []
    }
  ],
  "metadata": {
    "kernelspec": {
      "display_name": "Python 3",
      "language": "python",
      "name": "python3"
    },
    "language_info": {
      "name": "python",
      "version": "3.6.6",
      "mimetype": "text/x-python",
      "codemirror_mode": {
        "name": "ipython",
        "version": 3
      },
      "pygments_lexer": "ipython3",
      "nbconvert_exporter": "python",
      "file_extension": ".py"
    }
  },
  "nbformat": 4,
  "nbformat_minor": 1
}